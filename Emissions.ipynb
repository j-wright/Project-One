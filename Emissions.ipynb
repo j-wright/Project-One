{
 "cells": [
  {
   "cell_type": "code",
   "execution_count": 16,
   "metadata": {},
   "outputs": [],
   "source": [
    "import pandas as pd\n",
    "import requests\n",
    "import json\n",
    "import matplotlib.pyplot as plt\n",
    "import numpy as np\n",
    "#Full Data of CO2 Emissions in the World\n",
    "# Fetch the data.\n",
    "df = pd.read_csv(\"https://ourworldindata.org/grapher/co2-by-source.csv?v=1&csvType=full&useColumnShortNames=true\", storage_options = {'User-Agent': 'Our World In Data data fetch/1.0'})\n",
    "\n",
    "# Fetch the metadata\n",
    "metadata = requests.get(\"https://ourworldindata.org/grapher/co2-by-source.metadata.json?v=1&csvType=full&useColumnShortNames=true\").json()"
   ]
  },
  {
   "cell_type": "code",
   "execution_count": 17,
   "metadata": {},
   "outputs": [
    {
     "name": "stdout",
     "output_type": "stream",
     "text": [
      "{\n",
      "    \"activeFilters\": {},\n",
      "    \"chart\": {\n",
      "        \"citation\": \"Global Carbon Budget (2024)\",\n",
      "        \"originalChartUrl\": \"https://ourworldindata.org/grapher/co2-by-source?v=1&csvType=full&useColumnShortNames=true\",\n",
      "        \"selection\": [\n",
      "            \"World\"\n",
      "        ],\n",
      "        \"title\": \"CO\\u2082 emissions by fuel or industry type\"\n",
      "    },\n",
      "    \"columns\": {\n",
      "        \"emissions_from_cement\": {\n",
      "            \"citationLong\": \"Global Carbon Budget (2024) \\u2013 with major processing by Our World in Data. \\u201cCement \\u2013 GCB\\u201d [dataset]. Global Carbon Project, \\u201cGlobal Carbon Budget\\u201d [original data].\",\n",
      "            \"citationShort\": \"Global Carbon Budget (2024) \\u2013 with major processing by Our World in Data\",\n",
      "            \"descriptionKey\": [\n",
      "                \"This data is based on territorial emissions, which do not account for emissions embedded in traded goods.\",\n",
      "                \"Emissions from international aviation and shipping are not included in any country or region's emissions. They are only included in the global total emissions.\"\n",
      "            ],\n",
      "            \"descriptionProcessing\": \"- Data on global emissions has been converted from tonnes of carbon to tonnes of carbon dioxide (CO\\u2082) using a conversion factor of 3.664.\\n- Emissions from the Kuwaiti oil fires in 1991 have been included as part of Kuwait's emissions for that year.\\n- Country's share of the global population is calculated using our population dataset, based on [different sources](https://ourworldindata.org/population-sources).\\n- Each country's share of global CO\\u2082 emissions from flaring has been calculated using global CO\\u2082 emissions from flaring provided in the Global Carbon Budget dataset.\\n\",\n",
      "            \"descriptionShort\": \"Annual emissions of carbon dioxide (CO\\u2082) from cement, measured in tonnes.\",\n",
      "            \"fullMetadata\": \"https://api.ourworldindata.org/v1/indicators/998376.metadata.json\",\n",
      "            \"lastUpdated\": \"2024-11-21\",\n",
      "            \"nextUpdate\": \"2025-11-21\",\n",
      "            \"owidVariableId\": 998376,\n",
      "            \"shortName\": \"emissions_from_cement\",\n",
      "            \"shortUnit\": \"t\",\n",
      "            \"timespan\": \"1750-2023\",\n",
      "            \"titleLong\": \"Cement\",\n",
      "            \"titleShort\": \"Cement\",\n",
      "            \"type\": \"Numeric\",\n",
      "            \"unit\": \"tonnes\"\n",
      "        },\n",
      "        \"emissions_from_coal\": {\n",
      "            \"citationLong\": \"Global Carbon Budget (2024) \\u2013 with major processing by Our World in Data. \\u201cCoal \\u2013 GCB\\u201d [dataset]. Global Carbon Project, \\u201cGlobal Carbon Budget\\u201d [original data].\",\n",
      "            \"citationShort\": \"Global Carbon Budget (2024) \\u2013 with major processing by Our World in Data\",\n",
      "            \"descriptionKey\": [\n",
      "                \"This data is based on territorial emissions, which do not account for emissions embedded in traded goods.\",\n",
      "                \"Emissions from international aviation and shipping are not included in any country or region's emissions. They are only included in the global total emissions.\"\n",
      "            ],\n",
      "            \"descriptionProcessing\": \"- Data on global emissions has been converted from tonnes of carbon to tonnes of carbon dioxide (CO\\u2082) using a conversion factor of 3.664.\\n- Emissions from the Kuwaiti oil fires in 1991 have been included as part of Kuwait's emissions for that year.\\n- Country's share of the global population is calculated using our population dataset, based on [different sources](https://ourworldindata.org/population-sources).\\n- Each country's share of global CO\\u2082 emissions from flaring has been calculated using global CO\\u2082 emissions from flaring provided in the Global Carbon Budget dataset.\\n\",\n",
      "            \"descriptionShort\": \"Annual emissions of carbon dioxide (CO\\u2082) from coal, measured in tonnes.\",\n",
      "            \"fullMetadata\": \"https://api.ourworldindata.org/v1/indicators/998379.metadata.json\",\n",
      "            \"lastUpdated\": \"2024-11-21\",\n",
      "            \"nextUpdate\": \"2025-11-21\",\n",
      "            \"owidVariableId\": 998379,\n",
      "            \"shortName\": \"emissions_from_coal\",\n",
      "            \"shortUnit\": \"t\",\n",
      "            \"timespan\": \"1750-2023\",\n",
      "            \"titleLong\": \"Coal\",\n",
      "            \"titleShort\": \"Coal\",\n",
      "            \"type\": \"Numeric\",\n",
      "            \"unit\": \"tonnes\"\n",
      "        },\n",
      "        \"emissions_from_flaring\": {\n",
      "            \"citationLong\": \"Global Carbon Budget (2024) \\u2013 with major processing by Our World in Data. \\u201cFlaring \\u2013 GCB\\u201d [dataset]. Global Carbon Project, \\u201cGlobal Carbon Budget\\u201d [original data].\",\n",
      "            \"citationShort\": \"Global Carbon Budget (2024) \\u2013 with major processing by Our World in Data\",\n",
      "            \"descriptionKey\": [\n",
      "                \"This data is based on territorial emissions, which do not account for emissions embedded in traded goods.\",\n",
      "                \"Emissions from international aviation and shipping are not included in any country or region's emissions. They are only included in the global total emissions.\"\n",
      "            ],\n",
      "            \"descriptionProcessing\": \"- Data on global emissions has been converted from tonnes of carbon to tonnes of carbon dioxide (CO\\u2082) using a conversion factor of 3.664.\\n- Emissions from the Kuwaiti oil fires in 1991 have been included as part of Kuwait's emissions for that year.\\n- Country's share of the global population is calculated using our population dataset, based on [different sources](https://ourworldindata.org/population-sources).\\n- Each country's share of global CO\\u2082 emissions from flaring has been calculated using global CO\\u2082 emissions from flaring provided in the Global Carbon Budget dataset.\\n\",\n",
      "            \"descriptionShort\": \"Annual emissions of carbon dioxide (CO\\u2082) from flaring, measured in tonnes.\",\n",
      "            \"fullMetadata\": \"https://api.ourworldindata.org/v1/indicators/998382.metadata.json\",\n",
      "            \"lastUpdated\": \"2024-11-21\",\n",
      "            \"nextUpdate\": \"2025-11-21\",\n",
      "            \"owidVariableId\": 998382,\n",
      "            \"shortName\": \"emissions_from_flaring\",\n",
      "            \"shortUnit\": \"t\",\n",
      "            \"timespan\": \"1750-2023\",\n",
      "            \"titleLong\": \"Flaring\",\n",
      "            \"titleShort\": \"Flaring\",\n",
      "            \"type\": \"Numeric\",\n",
      "            \"unit\": \"tonnes\"\n",
      "        },\n",
      "        \"emissions_from_gas\": {\n",
      "            \"citationLong\": \"Global Carbon Budget (2024) \\u2013 with major processing by Our World in Data. \\u201cGas \\u2013 GCB\\u201d [dataset]. Global Carbon Project, \\u201cGlobal Carbon Budget\\u201d [original data].\",\n",
      "            \"citationShort\": \"Global Carbon Budget (2024) \\u2013 with major processing by Our World in Data\",\n",
      "            \"descriptionKey\": [\n",
      "                \"This data is based on territorial emissions, which do not account for emissions embedded in traded goods.\",\n",
      "                \"Emissions from international aviation and shipping are not included in any country or region's emissions. They are only included in the global total emissions.\"\n",
      "            ],\n",
      "            \"descriptionProcessing\": \"- Data on global emissions has been converted from tonnes of carbon to tonnes of carbon dioxide (CO\\u2082) using a conversion factor of 3.664.\\n- Emissions from the Kuwaiti oil fires in 1991 have been included as part of Kuwait's emissions for that year.\\n- Country's share of the global population is calculated using our population dataset, based on [different sources](https://ourworldindata.org/population-sources).\\n- Each country's share of global CO\\u2082 emissions from flaring has been calculated using global CO\\u2082 emissions from flaring provided in the Global Carbon Budget dataset.\\n\",\n",
      "            \"descriptionShort\": \"Annual emissions of carbon dioxide (CO\\u2082) from gas, measured in tonnes.\",\n",
      "            \"fullMetadata\": \"https://api.ourworldindata.org/v1/indicators/998385.metadata.json\",\n",
      "            \"lastUpdated\": \"2024-11-21\",\n",
      "            \"nextUpdate\": \"2025-11-21\",\n",
      "            \"owidVariableId\": 998385,\n",
      "            \"shortName\": \"emissions_from_gas\",\n",
      "            \"shortUnit\": \"t\",\n",
      "            \"timespan\": \"1750-2023\",\n",
      "            \"titleLong\": \"Gas\",\n",
      "            \"titleShort\": \"Gas\",\n",
      "            \"type\": \"Numeric\",\n",
      "            \"unit\": \"tonnes\"\n",
      "        },\n",
      "        \"emissions_from_oil\": {\n",
      "            \"citationLong\": \"Global Carbon Budget (2024) \\u2013 with major processing by Our World in Data. \\u201cOil \\u2013 GCB\\u201d [dataset]. Global Carbon Project, \\u201cGlobal Carbon Budget\\u201d [original data].\",\n",
      "            \"citationShort\": \"Global Carbon Budget (2024) \\u2013 with major processing by Our World in Data\",\n",
      "            \"descriptionKey\": [\n",
      "                \"This data is based on territorial emissions, which do not account for emissions embedded in traded goods.\",\n",
      "                \"Emissions from international aviation and shipping are not included in any country or region's emissions. They are only included in the global total emissions.\"\n",
      "            ],\n",
      "            \"descriptionProcessing\": \"- Data on global emissions has been converted from tonnes of carbon to tonnes of carbon dioxide (CO\\u2082) using a conversion factor of 3.664.\\n- Emissions from the Kuwaiti oil fires in 1991 have been included as part of Kuwait's emissions for that year.\\n- Country's share of the global population is calculated using our population dataset, based on [different sources](https://ourworldindata.org/population-sources).\\n- Each country's share of global CO\\u2082 emissions from flaring has been calculated using global CO\\u2082 emissions from flaring provided in the Global Carbon Budget dataset.\\n\",\n",
      "            \"descriptionShort\": \"Annual emissions of carbon dioxide (CO\\u2082) from oil, measured in tonnes.\",\n",
      "            \"fullMetadata\": \"https://api.ourworldindata.org/v1/indicators/998390.metadata.json\",\n",
      "            \"lastUpdated\": \"2024-11-21\",\n",
      "            \"nextUpdate\": \"2025-11-21\",\n",
      "            \"owidVariableId\": 998390,\n",
      "            \"shortName\": \"emissions_from_oil\",\n",
      "            \"shortUnit\": \"t\",\n",
      "            \"timespan\": \"1750-2023\",\n",
      "            \"titleLong\": \"Oil\",\n",
      "            \"titleShort\": \"Oil\",\n",
      "            \"type\": \"Numeric\",\n",
      "            \"unit\": \"tonnes\"\n",
      "        },\n",
      "        \"emissions_from_other_industry\": {\n",
      "            \"citationLong\": \"Global Carbon Budget (2024) \\u2013 with major processing by Our World in Data. \\u201cOther industry \\u2013 GCB\\u201d [dataset]. Global Carbon Project, \\u201cGlobal Carbon Budget\\u201d [original data].\",\n",
      "            \"citationShort\": \"Global Carbon Budget (2024) \\u2013 with major processing by Our World in Data\",\n",
      "            \"descriptionKey\": [\n",
      "                \"This data is based on territorial emissions, which do not account for emissions embedded in traded goods.\",\n",
      "                \"Emissions from international aviation and shipping are not included in any country or region's emissions. They are only included in the global total emissions.\"\n",
      "            ],\n",
      "            \"descriptionProcessing\": \"- Data on global emissions has been converted from tonnes of carbon to tonnes of carbon dioxide (CO\\u2082) using a conversion factor of 3.664.\\n- Emissions from the Kuwaiti oil fires in 1991 have been included as part of Kuwait's emissions for that year.\\n- Country's share of the global population is calculated using our population dataset, based on [different sources](https://ourworldindata.org/population-sources).\\n- Each country's share of global CO\\u2082 emissions from flaring has been calculated using global CO\\u2082 emissions from flaring provided in the Global Carbon Budget dataset.\\n\",\n",
      "            \"descriptionShort\": \"Annual emissions of carbon dioxide (CO\\u2082) from other industry sources, measured in tonnes.\",\n",
      "            \"fullMetadata\": \"https://api.ourworldindata.org/v1/indicators/998394.metadata.json\",\n",
      "            \"lastUpdated\": \"2024-11-21\",\n",
      "            \"nextUpdate\": \"2025-11-21\",\n",
      "            \"owidVariableId\": 998394,\n",
      "            \"shortName\": \"emissions_from_other_industry\",\n",
      "            \"shortUnit\": \"t\",\n",
      "            \"timespan\": \"1750-2023\",\n",
      "            \"titleLong\": \"Other industry\",\n",
      "            \"titleShort\": \"Other industry\",\n",
      "            \"type\": \"Numeric\",\n",
      "            \"unit\": \"tonnes\"\n",
      "        }\n",
      "    },\n",
      "    \"dateDownloaded\": \"2025-01-31\"\n",
      "}\n"
     ]
    }
   ],
   "source": [
    "print(json.dumps(metadata, indent=4, sort_keys=True))"
   ]
  },
  {
   "cell_type": "code",
   "execution_count": 18,
   "metadata": {},
   "outputs": [],
   "source": [
    "#Data for Gas Emissions by the Whole World\n",
    "# Fetch the data.\n",
    "\n",
    "gas_df = pd.read_csv(\"https://ourworldindata.org/grapher/annual-co2-gas.csv?v=1&csvType=full&useColumnShortNames=true\", storage_options = {'User-Agent': 'Our World In Data data fetch/1.0'})\n",
    "\n",
    "# Fetch the metadata\n",
    "gas_metadata = requests.get(\"https://ourworldindata.org/grapher/annual-co2-gas.metadata.json?v=1&csvType=full&useColumnShortNames=true\").json()"
   ]
  },
  {
   "cell_type": "code",
   "execution_count": 19,
   "metadata": {},
   "outputs": [
    {
     "name": "stdout",
     "output_type": "stream",
     "text": [
      "{\n",
      "    \"activeFilters\": {},\n",
      "    \"chart\": {\n",
      "        \"citation\": \"Global Carbon Budget (2024)\",\n",
      "        \"originalChartUrl\": \"https://ourworldindata.org/grapher/annual-co2-gas?v=1&csvType=full&useColumnShortNames=true\",\n",
      "        \"selection\": [\n",
      "            \"Germany\",\n",
      "            \"United States\",\n",
      "            \"United Kingdom\",\n",
      "            \"Canada\",\n",
      "            \"European Union (27)\",\n",
      "            \"India\",\n",
      "            \"Indonesia\",\n",
      "            \"South Africa\",\n",
      "            \"Russia\"\n",
      "        ],\n",
      "        \"title\": \"Annual CO\\u2082 emissions from gas\"\n",
      "    },\n",
      "    \"columns\": {\n",
      "        \"emissions_from_gas\": {\n",
      "            \"citationLong\": \"Global Carbon Budget (2024) \\u2013 with major processing by Our World in Data. \\u201cAnnual CO\\u2082 emissions from gas \\u2013 GCB\\u201d [dataset]. Global Carbon Project, \\u201cGlobal Carbon Budget\\u201d [original data].\",\n",
      "            \"citationShort\": \"Global Carbon Budget (2024) \\u2013 with major processing by Our World in Data\",\n",
      "            \"descriptionKey\": [\n",
      "                \"This data is based on territorial emissions, which do not account for emissions embedded in traded goods.\",\n",
      "                \"Emissions from international aviation and shipping are not included in any country or region's emissions. They are only included in the global total emissions.\"\n",
      "            ],\n",
      "            \"descriptionProcessing\": \"- Data on global emissions has been converted from tonnes of carbon to tonnes of carbon dioxide (CO\\u2082) using a conversion factor of 3.664.\\n- Emissions from the Kuwaiti oil fires in 1991 have been included as part of Kuwait's emissions for that year.\\n- Country's share of the global population is calculated using our population dataset, based on [different sources](https://ourworldindata.org/population-sources).\\n- Each country's share of global CO\\u2082 emissions from flaring has been calculated using global CO\\u2082 emissions from flaring provided in the Global Carbon Budget dataset.\\n\",\n",
      "            \"descriptionShort\": \"Annual emissions of carbon dioxide (CO\\u2082) from gas, measured in tonnes.\",\n",
      "            \"fullMetadata\": \"https://api.ourworldindata.org/v1/indicators/998385.metadata.json\",\n",
      "            \"lastUpdated\": \"2024-11-21\",\n",
      "            \"nextUpdate\": \"2025-11-21\",\n",
      "            \"owidVariableId\": 998385,\n",
      "            \"shortName\": \"emissions_from_gas\",\n",
      "            \"shortUnit\": \"t\",\n",
      "            \"timespan\": \"1750-2023\",\n",
      "            \"titleLong\": \"Annual CO\\u2082 emissions from gas\",\n",
      "            \"titleShort\": \"Annual CO\\u2082 emissions from gas\",\n",
      "            \"type\": \"Numeric\",\n",
      "            \"unit\": \"tonnes\"\n",
      "        }\n",
      "    },\n",
      "    \"dateDownloaded\": \"2025-01-31\"\n",
      "}\n"
     ]
    }
   ],
   "source": [
    "print(json.dumps(gas_metadata, indent=4, sort_keys=True))"
   ]
  },
  {
   "cell_type": "code",
   "execution_count": null,
   "metadata": {},
   "outputs": [
    {
     "name": "stdout",
     "output_type": "stream",
     "text": [
      "dict_keys(['chart', 'columns', 'dateDownloaded', 'activeFilters'])\n",
      "chart\n"
     ]
    }
   ],
   "source": [
    "#Not working with json\n",
    "years = gas_metadata.keys()\n",
    "print(years)\n",
    "print('chart')\n"
   ]
  },
  {
   "cell_type": "code",
   "execution_count": 21,
   "metadata": {},
   "outputs": [],
   "source": [
    "gas_metadata = plt.plot"
   ]
  },
  {
   "cell_type": "code",
   "execution_count": 23,
   "metadata": {},
   "outputs": [
    {
     "data": {
      "text/html": [
       "<div>\n",
       "<style scoped>\n",
       "    .dataframe tbody tr th:only-of-type {\n",
       "        vertical-align: middle;\n",
       "    }\n",
       "\n",
       "    .dataframe tbody tr th {\n",
       "        vertical-align: top;\n",
       "    }\n",
       "\n",
       "    .dataframe thead th {\n",
       "        text-align: right;\n",
       "    }\n",
       "</style>\n",
       "<table border=\"1\" class=\"dataframe\">\n",
       "  <thead>\n",
       "    <tr style=\"text-align: right;\">\n",
       "      <th></th>\n",
       "      <th>Entity</th>\n",
       "      <th>Code</th>\n",
       "      <th>Year</th>\n",
       "      <th>Annual CO₂ emissions from gas</th>\n",
       "    </tr>\n",
       "  </thead>\n",
       "  <tbody>\n",
       "    <tr>\n",
       "      <th>0</th>\n",
       "      <td>Afghanistan</td>\n",
       "      <td>AFG</td>\n",
       "      <td>1949</td>\n",
       "      <td>0.0</td>\n",
       "    </tr>\n",
       "    <tr>\n",
       "      <th>1</th>\n",
       "      <td>Afghanistan</td>\n",
       "      <td>AFG</td>\n",
       "      <td>1950</td>\n",
       "      <td>0.0</td>\n",
       "    </tr>\n",
       "    <tr>\n",
       "      <th>2</th>\n",
       "      <td>Afghanistan</td>\n",
       "      <td>AFG</td>\n",
       "      <td>1951</td>\n",
       "      <td>0.0</td>\n",
       "    </tr>\n",
       "    <tr>\n",
       "      <th>3</th>\n",
       "      <td>Afghanistan</td>\n",
       "      <td>AFG</td>\n",
       "      <td>1952</td>\n",
       "      <td>0.0</td>\n",
       "    </tr>\n",
       "    <tr>\n",
       "      <th>4</th>\n",
       "      <td>Afghanistan</td>\n",
       "      <td>AFG</td>\n",
       "      <td>1953</td>\n",
       "      <td>0.0</td>\n",
       "    </tr>\n",
       "  </tbody>\n",
       "</table>\n",
       "</div>"
      ],
      "text/plain": [
       "        Entity Code  Year  Annual CO₂ emissions from gas\n",
       "0  Afghanistan  AFG  1949                            0.0\n",
       "1  Afghanistan  AFG  1950                            0.0\n",
       "2  Afghanistan  AFG  1951                            0.0\n",
       "3  Afghanistan  AFG  1952                            0.0\n",
       "4  Afghanistan  AFG  1953                            0.0"
      ]
     },
     "execution_count": 23,
     "metadata": {},
     "output_type": "execute_result"
    }
   ],
   "source": [
    "#Trying again to build line with csvfile\n",
    "csv_df= pd.read_csv('/Users/lisatafoya/Downloads/annual-co2-gas/annual-co2-gas.csv')\n",
    "csv_df.head()"
   ]
  },
  {
   "cell_type": "code",
   "execution_count": 24,
   "metadata": {},
   "outputs": [],
   "source": [
    "csv_df = csv_df.set_index(\"Entity\")"
   ]
  },
  {
   "cell_type": "code",
   "execution_count": 30,
   "metadata": {},
   "outputs": [],
   "source": [
    "#was trying to define the years i want on my line graph\n",
    "#years_string= csv_df[[str(year) for year in range(1995,2024)]]\n",
    "#years = years_string.keys()\n",
    "#print(years)\n"
   ]
  },
  {
   "cell_type": "code",
   "execution_count": null,
   "metadata": {},
   "outputs": [
    {
     "name": "stdout",
     "output_type": "stream",
     "text": [
      "Index(['Code', 'Year', 'Annual CO₂ emissions from gas'], dtype='object')\n"
     ]
    }
   ],
   "source": [
    "#world_co2, = plt.plot(csv_df.loc['World',[data=]]"
   ]
  }
 ],
 "metadata": {
  "kernelspec": {
   "display_name": "PythonData_2024_12",
   "language": "python",
   "name": "python3"
  },
  "language_info": {
   "codemirror_mode": {
    "name": "ipython",
    "version": 3
   },
   "file_extension": ".py",
   "mimetype": "text/x-python",
   "name": "python",
   "nbconvert_exporter": "python",
   "pygments_lexer": "ipython3",
   "version": "3.10.16"
  }
 },
 "nbformat": 4,
 "nbformat_minor": 2
}
