{
 "cells": [
  {
   "cell_type": "code",
   "execution_count": 2,
   "metadata": {},
   "outputs": [],
   "source": [
    "import pandas as pd\n",
    "import requests\n",
    "import json\n",
    "\n",
    "# Fetch the data.\n",
    "df = pd.read_csv(\"https://ourworldindata.org/grapher/co2-emissions-transport.csv?v=1&csvType=full&useColumnShortNames=true\", storage_options = {'User-Agent': 'Our World In Data data fetch/1.0'})\n",
    "\n",
    "# Fetch the metadata\n",
    "metadata = requests.get(\"https://ourworldindata.org/grapher/co2-emissions-transport.metadata.json?v=1&csvType=full&useColumnShortNames=true\").json()"
   ]
  },
  {
   "cell_type": "code",
   "execution_count": 4,
   "metadata": {},
   "outputs": [
    {
     "name": "stdout",
     "output_type": "stream",
     "text": [
      "{\n",
      "    \"activeFilters\": {},\n",
      "    \"chart\": {\n",
      "        \"citation\": \"Climate Watch (2024)\",\n",
      "        \"originalChartUrl\": \"https://ourworldindata.org/grapher/co2-emissions-transport?v=1&csvType=full&useColumnShortNames=true\",\n",
      "        \"selection\": [\n",
      "            \"United States\",\n",
      "            \"China\",\n",
      "            \"India\",\n",
      "            \"Canada\",\n",
      "            \"New Zealand\",\n",
      "            \"France\",\n",
      "            \"Switzerland\",\n",
      "            \"World\"\n",
      "        ],\n",
      "        \"subtitle\": \"Emissions are measured in tonnes. Domestic aviation and shipping emissions are included at the national level. International aviation and shipping emissions are included only at the global level.\",\n",
      "        \"title\": \"CO\\u2082 emissions from transport\"\n",
      "    },\n",
      "    \"columns\": {\n",
      "        \"transport_co2_emissions\": {\n",
      "            \"citationLong\": \"Climate Watch (2024) \\u2013 with major processing by Our World in Data. \\u201cCarbon dioxide emissions from transport\\u201d [dataset]. Climate Watch, \\u201cGreenhouse gas emissions by sector\\u201d [original data].\",\n",
      "            \"citationShort\": \"Climate Watch (2024) \\u2013 with major processing by Our World in Data\",\n",
      "            \"descriptionKey\": [],\n",
      "            \"descriptionShort\": \"Emissions are measured in tonnes.\",\n",
      "            \"fullMetadata\": \"https://api.ourworldindata.org/v1/indicators/998812.metadata.json\",\n",
      "            \"lastUpdated\": \"2024-11-21\",\n",
      "            \"nextUpdate\": \"2025-11-21\",\n",
      "            \"owidVariableId\": 998812,\n",
      "            \"shortName\": \"transport_co2_emissions\",\n",
      "            \"shortUnit\": \"t\",\n",
      "            \"timespan\": \"1990-2021\",\n",
      "            \"titleLong\": \"Carbon dioxide emissions from transport\",\n",
      "            \"titleShort\": \"Carbon dioxide emissions from transport\",\n",
      "            \"type\": \"Numeric\",\n",
      "            \"unit\": \"tonnes\"\n",
      "        }\n",
      "    },\n",
      "    \"dateDownloaded\": \"2025-01-31\"\n",
      "}\n"
     ]
    }
   ],
   "source": [
    "print(json.dumps(metadata, indent=4, sort_keys=True))"
   ]
  },
  {
   "cell_type": "code",
   "execution_count": null,
   "metadata": {},
   "outputs": [],
   "source": []
  }
 ],
 "metadata": {
  "kernelspec": {
   "display_name": "PythonData_2024_12",
   "language": "python",
   "name": "python3"
  },
  "language_info": {
   "codemirror_mode": {
    "name": "ipython",
    "version": 3
   },
   "file_extension": ".py",
   "mimetype": "text/x-python",
   "name": "python",
   "nbconvert_exporter": "python",
   "pygments_lexer": "ipython3",
   "version": "3.10.16"
  }
 },
 "nbformat": 4,
 "nbformat_minor": 2
}
